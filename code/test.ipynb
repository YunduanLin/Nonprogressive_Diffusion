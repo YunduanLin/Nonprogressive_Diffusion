{
 "cells": [
  {
   "cell_type": "code",
   "execution_count": 66,
   "id": "69f213ee-0cf3-478a-857f-d80fe5794d7b",
   "metadata": {},
   "outputs": [],
   "source": [
    "import numpy as np\n",
    "import numpy.linalg as la\n",
    "import matplotlib.pyplot as plt\n",
    "from tqdm.notebook import tnrange,tqdm\n",
    "import pandas as pd\n",
    "import os\n",
    "\n",
    "import warnings\n",
    "warnings.filterwarnings(\"ignore\")"
   ]
  },
  {
   "cell_type": "code",
   "execution_count": 2,
   "id": "bf44146d-7668-4a7c-af53-868b782fbaeb",
   "metadata": {},
   "outputs": [],
   "source": [
    "from diffusion_simulation import diffusion_simulation\n",
    "from network import network"
   ]
  },
  {
   "cell_type": "markdown",
   "id": "6334b4d3-f55b-4cc9-88af-e8d4f057e4e5",
   "metadata": {},
   "source": [
    "## Generate synthetic network instances "
   ]
  },
  {
   "cell_type": "markdown",
   "id": "3d53f2cb-5104-4dc2-8df2-8e44dfb8894b",
   "metadata": {},
   "source": [
    "### __Example 1__: Generate one ER graph with size 100, density 0.1"
   ]
  },
  {
   "cell_type": "code",
   "execution_count": 34,
   "id": "e5dfa024-3b03-4ae9-8757-49877a2497fe",
   "metadata": {
    "scrolled": true
   },
   "outputs": [
    {
     "name": "stdout",
     "output_type": "stream",
     "text": [
      "Instance generated with 100 nodes.\n"
     ]
    }
   ],
   "source": [
    "n = 100 # Network size, choose from [20, 50, 100, 200, 500, 1000, 2000, 5000, 10000]\n",
    "pn = '1' # Network density, choose from ['1_n13', '1_n11', '1_n', 'sqrtlogn_n', 'logn_n', 'logn2_n', '1']\n",
    "rep = 1 # For illustration, generate one repetition. To fully replicate the result in the paper, change this to 50.\n",
    "\n",
    "for i in range(1,rep+1):\n",
    "    sim_id = f'ER_{pn}/n{n}_{i}'\n",
    "    os.makedirs(f'../instances/{sim_id}', exist_ok=True)\n",
    "    params = {'sim_id':sim_id, 'alpha':0.1, 'beta':3.5,\n",
    "              'noise_dist': 'logistic', 'noise_dist_param':1,\n",
    "              'cnt_iter': 100000, 't_warmup':1000, 'is_traj':False, \n",
    "              'network_type': 'ER',\n",
    "              'is_network_given':False, 'network_size': n, 'ER_prob':0.1, 'network_dir':'',\n",
    "              'is_value_given':False, 'v_dist':'uniform_neg', 'v_dist_param': 4, 'value_dir':''\n",
    "             }\n",
    "    \n",
    "    G = network(params)\n",
    "    sample = diffusion_simulation(G,params)\n",
    "    sample.start_diffusion()\n",
    "    sample.run_fixed_point()\n",
    "    sample.output()"
   ]
  },
  {
   "cell_type": "code",
   "execution_count": 36,
   "id": "0923d67e-3b3f-4e1a-901f-6d25190e56d6",
   "metadata": {},
   "outputs": [
    {
     "name": "stdout",
     "output_type": "stream",
     "text": [
      "Instance generated with 100 nodes.\n",
      "MAPE: 3.6896278293831886\n",
      "Inverse in-degree density: 0.11699688\n",
      "Inverse of average in-degree: 0.1027749277540214\n"
     ]
    }
   ],
   "source": [
    "# Figure 3, illustration for one of the replications of a specific (n,p(n)) ER random graph\n",
    "\n",
    "sim_id = f'ER_{pn}/n{n}_{1}'\n",
    "\n",
    "df = pd.read_csv(f'../instances/{sim_id}/results.csv')\n",
    "params = {'sim_id':sim_id, 'alpha':0.1, 'beta':3.5,\n",
    "          'noise_dist': 'logistic', 'noise_dist_param': 1,\n",
    "          'cnt_iter': 100000, 't_warmup':1000, 'is_traj':False, \n",
    "          'is_network_given':True, 'network_dir':f'../instances/{sim_id}/edge.csv',  \n",
    "          'is_value_given':True, 'value_dir':f'../instances/{sim_id}/v.csv'\n",
    "         }\n",
    "G = network(params)\n",
    "\n",
    "is_not_0 = G.in_degree > 0\n",
    "if G.n<len(df):\n",
    "    df = df[:G.n]\n",
    "df_1 = df[is_not_0]\n",
    "mape = np.mean(np.abs(df_1['sim']-df_1['fp'])/df_1['sim'])\n",
    "    \n",
    "G.cal_mean_inv_indeg()\n",
    "\n",
    "print('MAPE:', mape*100) # Figure 3(a)\n",
    "print('Inverse in-degree density:', np.mean(1/G.in_degree[is_not_0])) # Figure 3(b)\n",
    "print('Inverse of average in-degree:', 1/np.mean(G.in_degree)) # Figure 3(c)"
   ]
  },
  {
   "cell_type": "markdown",
   "id": "d4cff97e-b348-4de9-812b-c313d5433a0e",
   "metadata": {},
   "source": [
    "### __Example 2__: Generate one ER graph with size 1000, density $\\log{n}/n$"
   ]
  },
  {
   "cell_type": "code",
   "execution_count": 7,
   "id": "0a180499-d176-4079-8bf4-b8f234e973f7",
   "metadata": {},
   "outputs": [
    {
     "name": "stdout",
     "output_type": "stream",
     "text": [
      "Instance generated with 1000 nodes.\n"
     ]
    }
   ],
   "source": [
    "n = 1000 # Network size, choose from [20, 50, 100, 200, 500, 1000, 2000, 5000, 10000]\n",
    "pn = 'logn_n' # Network density, choose from ['1_n13', '1_n11', '1_n', 'sqrtlogn_n', 'logn_n', 'logn2_n', '1']\n",
    "rep = 1 # For illustration, generate one repetition. To fully replicate the result in the paper, change this to 50.\n",
    "\n",
    "for i in range(1,rep+1):\n",
    "    sim_id = f'ER_{pn}/n{n}_{i}'\n",
    "    os.makedirs(f'../instances/{sim_id}', exist_ok=True)\n",
    "    params = {'sim_id':sim_id, 'alpha':0.1, 'beta':3.5,\n",
    "              'noise_dist': 'logistic', 'noise_dist_param':1,\n",
    "              'cnt_iter': 100000, 't_warmup':1000, 'is_traj':False, \n",
    "              'network_type': 'ER',\n",
    "              'is_network_given':False, 'network_size': n, 'ER_prob':np.log(n)/n, 'network_dir':'',\n",
    "              'is_value_given':False, 'v_dist':'uniform_neg', 'v_dist_param': 4, 'value_dir':''\n",
    "             }\n",
    "    \n",
    "    G = network(params)\n",
    "    sample = diffusion_simulation(G,params)\n",
    "    sample.start_diffusion()\n",
    "    sample.run_fixed_point()\n",
    "    sample.output()"
   ]
  },
  {
   "cell_type": "code",
   "execution_count": 8,
   "id": "f2a8012a-e99d-4517-86ff-8a00be0d1c97",
   "metadata": {},
   "outputs": [
    {
     "name": "stdout",
     "output_type": "stream",
     "text": [
      "Instance generated with 1000 nodes.\n",
      "MAPE: 6.60778471532297\n",
      "Inverse in-degree density 0.17600192\n",
      "Inverse of average in-degree 0.1440299615549603\n"
     ]
    }
   ],
   "source": [
    "# Figure 4, illustration for one of the replications of a specific (n,p(n)) ER random graph\n",
    "\n",
    "sim_id = f'ER_{pn}/n{n}_{1}'\n",
    "\n",
    "df = pd.read_csv(f'../instances/{sim_id}/results.csv')\n",
    "params = {'sim_id':sim_id, 'alpha':0.1, 'beta':3.5,\n",
    "          'noise_dist': 'logistic', 'noise_dist_param': 1,\n",
    "          'cnt_iter': 100000, 't_warmup':1000, 'is_traj':False, \n",
    "          'is_network_given':True, 'network_dir':f'../instances/{sim_id}/edge.csv',  \n",
    "          'is_value_given':True, 'value_dir':f'../instances/{sim_id}/v.csv'\n",
    "         }\n",
    "G = network(params)\n",
    "\n",
    "is_not_0 = G.in_degree > 0\n",
    "if G.n<len(df):\n",
    "    df = df[:G.n]\n",
    "df_1 = df[is_not_0]\n",
    "mape = np.mean(np.abs(df_1['sim']-df_1['fp'])/df_1['sim'])\n",
    "\n",
    "print('MAPE:', mape*100) # Figure 4(a)\n",
    "print('Inverse in-degree density:', np.mean(1/G.in_degree[is_not_0])) # Figure 4(b)\n",
    "print('Inverse of average in-degree:', 1/np.mean(G.in_degree)) # Figure 4(c)"
   ]
  },
  {
   "cell_type": "markdown",
   "id": "d63f6d6c-de6d-484f-871f-a87f91ee5725",
   "metadata": {},
   "source": [
    "### __Example 3__: Generate one PL graph with size 100, exponent 2.5, degree correlation 0"
   ]
  },
  {
   "cell_type": "code",
   "execution_count": 29,
   "id": "2c322d11-393c-431b-af0e-9914cbeeacd4",
   "metadata": {},
   "outputs": [
    {
     "name": "stdout",
     "output_type": "stream",
     "text": [
      "Instance generated with 100 nodes.\n"
     ]
    }
   ],
   "source": [
    "n = 100 # Network size, choose from [20, 50, 100, 200, 500, 1000, 2000, 5000, 10000]\n",
    "pn = 'alpha25_theta0' # Network density, choose from ['1_n13', '1_n11', '1_n', 'sqrtlogn_n', 'logn_n', 'logn2_n', '1']\n",
    "expon, corr, xmin = 3, 0, 2\n",
    "rep = 1 # For illustration, generate one repetition. To fully replicate the result in the paper, change this to 50.\n",
    "\n",
    "for i in range(1,rep+1):\n",
    "    sim_id = f'PL_alpha{expon}_theta{corr}/n{n}_{i}'\n",
    "    os.makedirs(f'../instances/{sim_id}', exist_ok=True)\n",
    "    params = {'sim_id':sim_id, 'alpha':0.1, 'beta':3.5,\n",
    "              'noise_dist': 'logistic', 'noise_dist_param':1,\n",
    "              'cnt_iter': 100000, 't_warmup':1000, 'is_traj':False, \n",
    "              'network_type': 'PL',\n",
    "              'is_network_given':False, 'network_size': n, 'PL_exponent':expon, 'PL_corr':corr, 'PL_xmin':xmin, 'network_dir':'',\n",
    "              'is_value_given':False, 'v_dist':'uniform_neg', 'v_dist_param': 4, 'value_dir':''\n",
    "             }\n",
    "    \n",
    "    G = network(params)\n",
    "    sample = diffusion_simulation(G,params)\n",
    "    sample.start_diffusion()\n",
    "    sample.run_fixed_point()\n",
    "    sample.output()"
   ]
  },
  {
   "cell_type": "code",
   "execution_count": 31,
   "id": "60f35f31-86b6-42f7-8977-98a0fb09b8ec",
   "metadata": {},
   "outputs": [
    {
     "name": "stdout",
     "output_type": "stream",
     "text": [
      "Instance generated with 100 nodes.\n",
      "MAPE: 14.989297687283692\n",
      "Inverse in-degree density: 0.40200797\n"
     ]
    }
   ],
   "source": [
    "# Figure 5, illustration for one of the replications of a specific (n,p(n)) ER random graph\n",
    "\n",
    "sim_id = f'PL_alpha{expon}_theta{corr}/n{n}_{1}'\n",
    "\n",
    "df = pd.read_csv(f'../instances/{sim_id}/results.csv')\n",
    "params = {'sim_id':sim_id, 'alpha':0.1, 'beta':3.5,\n",
    "          'noise_dist': 'logistic', 'noise_dist_param': 1,\n",
    "          'cnt_iter': 100000, 't_warmup':1000, 'is_traj':False, \n",
    "          'is_network_given':True, 'network_dir':f'../instances/{sim_id}/edge.csv',  \n",
    "          'is_value_given':True, 'value_dir':f'../instances/{sim_id}/v.csv'\n",
    "         }\n",
    "G = network(params)\n",
    "\n",
    "mape = np.mean(np.abs(df['sim']-df['fp'])/df['sim'])\n",
    "\n",
    "print('MAPE:', mape*100) # Figure 5\n",
    "print('Inverse in-degree density:', np.mean(1/G.in_degree)) # Figure 5"
   ]
  },
  {
   "cell_type": "markdown",
   "id": "e6198b60-0f47-405e-94bb-fef00b5479ab",
   "metadata": {},
   "source": [
    "## Generate real-world network instances"
   ]
  },
  {
   "cell_type": "markdown",
   "id": "fff964af-9d6a-4187-aad6-b7cf8c0b785f",
   "metadata": {},
   "source": [
    "### __Example 1__: Caltech36 instance"
   ]
  },
  {
   "cell_type": "code",
   "execution_count": 13,
   "id": "95f84a9e-7b7f-4db2-be33-042d96fcdc99",
   "metadata": {},
   "outputs": [],
   "source": [
    "sim, folder = 'Caltech36', 'caltech'\n",
    "os.makedirs(f'../instances/{folder}', exist_ok=True)\n",
    "df = pd.read_csv(f'../instances/{sim}.txt',sep=' ', names=['from_edge', 'to_edge'])\n",
    "df_1 = df.copy()\n",
    "df_1['from_edge'], df_1['to_edge'] = df['to_edge'], df['from_edge']\n",
    "# build a undirected graph\n",
    "pd.concat([df,df_1], ignore_index=True).to_csv(f'../instances/{folder}/edge.csv', index=None)"
   ]
  },
  {
   "cell_type": "code",
   "execution_count": 15,
   "id": "d8054194-3181-46c9-807e-d3f75cbc9070",
   "metadata": {
    "scrolled": true
   },
   "outputs": [
    {
     "name": "stdout",
     "output_type": "stream",
     "text": [
      "Instance generated with 770 nodes.\n"
     ]
    }
   ],
   "source": [
    "folder = 'caltech'\n",
    "rep = 1 # For illustration, generate one repetition. To fully replicate the result in the paper, change this to 50.\n",
    "for i in range(1,rep+1):\n",
    "    sim_id = f'{folder}/sim_{i}'\n",
    "    os.makedirs(f'../instances/{sim_id}', exist_ok=True)\n",
    "    params = {'sim_id':sim_id, 'alpha':0.1, 'beta':3.5,\n",
    "              'noise_dist': 'logistic', 'noise_dist_param':1,\n",
    "              'cnt_iter': 100000, 't_warmup':1000, 'is_traj':False, \n",
    "              'is_network_given':True, 'network_dir':f'../instances/{folder}/edge.csv',\n",
    "              'is_value_given':False, 'v_dist':'uniform_neg', 'v_dist_param': 4\n",
    "             }\n",
    "    \n",
    "    G = network(params)\n",
    "    sample = diffusion_simulation(G,params)\n",
    "    sample.start_diffusion()\n",
    "    sample.run_fixed_point()\n",
    "    sample.output()"
   ]
  },
  {
   "cell_type": "markdown",
   "id": "10c19421-433f-46b7-b609-00ab40267854",
   "metadata": {},
   "source": [
    "### __Example 2__: Amherst41 instance"
   ]
  },
  {
   "cell_type": "code",
   "execution_count": 48,
   "id": "a6c67c32-b8ac-412d-872e-b9eafecd7b98",
   "metadata": {},
   "outputs": [],
   "source": [
    "sim, folder = 'Amherst41', 'amherst'\n",
    "os.makedirs(f'../instances/{folder}', exist_ok=True)\n",
    "df = pd.read_csv(f'../instances/{sim}.txt',sep=' ', names=['from_edge', 'to_edge'])\n",
    "df_1 = df.copy()\n",
    "df_1['from_edge'], df_1['to_edge'] = df['to_edge'], df['from_edge']\n",
    "# build a undirected graph\n",
    "pd.concat([df,df_1], ignore_index=True).to_csv(f'../instances/{folder}/edge.csv', index=None)"
   ]
  },
  {
   "cell_type": "code",
   "execution_count": 50,
   "id": "11dc4aca-7dcd-4380-a77b-99c279a4d48c",
   "metadata": {},
   "outputs": [
    {
     "name": "stdout",
     "output_type": "stream",
     "text": [
      "Instance generated with 2236 nodes.\n"
     ]
    }
   ],
   "source": [
    "folder = 'amherst'\n",
    "rep = 1 # For illustration, generate one repetition. To fully replicate the result in the paper, change this to 50.\n",
    "for i in range(1,rep+1):\n",
    "    sim_id = f'{folder}/sim_{i}'\n",
    "    os.makedirs(f'../instances/{sim_id}', exist_ok=True)\n",
    "    params = {'sim_id':sim_id, 'alpha':0.1, 'beta':3.5,\n",
    "              'noise_dist': 'logistic', 'noise_dist_param':1,\n",
    "              'cnt_iter': 100000, 't_warmup':1000, 'is_traj':False, \n",
    "              'is_network_given':True, 'network_dir':f'../instances/{folder}/edge.csv',\n",
    "              'is_value_given':False, 'v_dist':'uniform_neg', 'v_dist_param': 4\n",
    "             }\n",
    "    \n",
    "    G = network(params)\n",
    "    sample = diffusion_simulation(G,params)\n",
    "    sample.start_diffusion()\n",
    "    sample.run_fixed_point()\n",
    "    sample.output()"
   ]
  },
  {
   "cell_type": "markdown",
   "id": "cd1811ca-bc7d-4d2d-b898-06cb7b02b748",
   "metadata": {},
   "source": [
    "## Calculate the descriptive statistics for the instances"
   ]
  },
  {
   "cell_type": "code",
   "execution_count": 58,
   "id": "4c680540-68d9-4180-8bb4-d8bba0356e55",
   "metadata": {},
   "outputs": [],
   "source": [
    "# Table 2\n",
    "def print_metrics(sim_id):\n",
    "    params = {'sim_id':sim_id, 'alpha':0.1, 'beta':3.5,\n",
    "          'noise_dist': 'logistic', 'noise_dist_param': 1,\n",
    "          'cnt_iter': 100000, 't_warmup':1000, 'is_traj':False, \n",
    "          'is_network_given':True, 'network_dir':f'../instances/{sim_id}/edge.csv',  \n",
    "          'is_value_given':True, 'value_dir':f'../instances/{sim_id}/v.csv'\n",
    "         }\n",
    "    G = network(params)\n",
    "    df = pd.read_csv(f'../instances/{sim_id}/results.csv')\n",
    "    mape = np.mean(np.abs(df['sim']-df['fp'])/df['sim'])\n",
    "    G.cal_mean_inv_indeg()\n",
    "    pd.DataFrame({'n':[G.n], 'd_min':[np.min(G.in_degree_adj)], 'd_max':[np.max(G.in_degree)], \n",
    "                 'd_mean':[np.mean(G.in_degree)], 'out_in_ratio': [np.max(G.out_degree)/max(np.min(G.in_degree),1)], \n",
    "                 'deg_corr':[np.corrcoef(G.in_degree, G.out_degree)[0,1]],\n",
    "                 'inv_ind_density':[G.ave_inv_indeg], 'mape':[mape]}\n",
    "                ).to_csv(f'../instances/{sim_id}/metrics.csv', index=None)"
   ]
  },
  {
   "cell_type": "code",
   "execution_count": 62,
   "id": "f5b14cdc-d598-4d2d-98bd-83783dcb3569",
   "metadata": {},
   "outputs": [
    {
     "name": "stdout",
     "output_type": "stream",
     "text": [
      "Instance generated with 770 nodes.\n"
     ]
    },
    {
     "data": {
      "text/html": [
       "<div>\n",
       "<style scoped>\n",
       "    .dataframe tbody tr th:only-of-type {\n",
       "        vertical-align: middle;\n",
       "    }\n",
       "\n",
       "    .dataframe tbody tr th {\n",
       "        vertical-align: top;\n",
       "    }\n",
       "\n",
       "    .dataframe thead th {\n",
       "        text-align: right;\n",
       "    }\n",
       "</style>\n",
       "<table border=\"1\" class=\"dataframe\">\n",
       "  <thead>\n",
       "    <tr style=\"text-align: right;\">\n",
       "      <th></th>\n",
       "      <th>n</th>\n",
       "      <th>d_min</th>\n",
       "      <th>d_max</th>\n",
       "      <th>d_mean</th>\n",
       "      <th>out_in_ratio</th>\n",
       "      <th>deg_corr</th>\n",
       "      <th>inv_ind_density</th>\n",
       "      <th>mape</th>\n",
       "    </tr>\n",
       "  </thead>\n",
       "  <tbody>\n",
       "    <tr>\n",
       "      <th>0</th>\n",
       "      <td>770</td>\n",
       "      <td>1.0</td>\n",
       "      <td>248.0</td>\n",
       "      <td>43.262337</td>\n",
       "      <td>248.0</td>\n",
       "      <td>1.0</td>\n",
       "      <td>0.11078</td>\n",
       "      <td>0.034243</td>\n",
       "    </tr>\n",
       "  </tbody>\n",
       "</table>\n",
       "</div>"
      ],
      "text/plain": [
       "     n  d_min  d_max     d_mean  out_in_ratio  deg_corr  inv_ind_density  \\\n",
       "0  770    1.0  248.0  43.262337         248.0       1.0          0.11078   \n",
       "\n",
       "       mape  \n",
       "0  0.034243  "
      ]
     },
     "execution_count": 62,
     "metadata": {},
     "output_type": "execute_result"
    }
   ],
   "source": [
    "sim_id = f'caltech/sim_1'\n",
    "print_metrics(sim_id)\n",
    "df = pd.read_csv(f'../instances/{sim_id}/metrics.csv')\n",
    "df"
   ]
  },
  {
   "cell_type": "code",
   "execution_count": 60,
   "id": "eba5d698-69ff-418e-94f8-bb674bb6930d",
   "metadata": {},
   "outputs": [
    {
     "name": "stdout",
     "output_type": "stream",
     "text": [
      "Instance generated with 2236 nodes.\n"
     ]
    },
    {
     "data": {
      "text/html": [
       "<div>\n",
       "<style scoped>\n",
       "    .dataframe tbody tr th:only-of-type {\n",
       "        vertical-align: middle;\n",
       "    }\n",
       "\n",
       "    .dataframe tbody tr th {\n",
       "        vertical-align: top;\n",
       "    }\n",
       "\n",
       "    .dataframe thead th {\n",
       "        text-align: right;\n",
       "    }\n",
       "</style>\n",
       "<table border=\"1\" class=\"dataframe\">\n",
       "  <thead>\n",
       "    <tr style=\"text-align: right;\">\n",
       "      <th></th>\n",
       "      <th>n</th>\n",
       "      <th>d_min</th>\n",
       "      <th>d_max</th>\n",
       "      <th>d_mean</th>\n",
       "      <th>out_in_ratio</th>\n",
       "      <th>deg_corr</th>\n",
       "      <th>inv_ind_density</th>\n",
       "      <th>mape</th>\n",
       "    </tr>\n",
       "  </thead>\n",
       "  <tbody>\n",
       "    <tr>\n",
       "      <th>0</th>\n",
       "      <td>2236</td>\n",
       "      <td>1.0</td>\n",
       "      <td>467.0</td>\n",
       "      <td>81.3542</td>\n",
       "      <td>467.0</td>\n",
       "      <td>1.0</td>\n",
       "      <td>0.048817</td>\n",
       "      <td>0.016332</td>\n",
       "    </tr>\n",
       "  </tbody>\n",
       "</table>\n",
       "</div>"
      ],
      "text/plain": [
       "      n  d_min  d_max   d_mean  out_in_ratio  deg_corr  inv_ind_density  \\\n",
       "0  2236    1.0  467.0  81.3542         467.0       1.0         0.048817   \n",
       "\n",
       "       mape  \n",
       "0  0.016332  "
      ]
     },
     "execution_count": 60,
     "metadata": {},
     "output_type": "execute_result"
    }
   ],
   "source": [
    "sim_id = f'amherst/sim_1'\n",
    "print_metrics(sim_id)\n",
    "df = pd.read_csv(f'../instances/{sim_id}/metrics.csv')\n",
    "df"
   ]
  },
  {
   "cell_type": "markdown",
   "id": "466d025a-53ef-434d-b286-e4e457afca17",
   "metadata": {},
   "source": [
    "## Test the efficiency"
   ]
  },
  {
   "cell_type": "code",
   "execution_count": 82,
   "id": "eef16892-17aa-45a2-9567-c252183fed91",
   "metadata": {},
   "outputs": [
    {
     "name": "stdout",
     "output_type": "stream",
     "text": [
      "Instance generated with 100 nodes.\n"
     ]
    }
   ],
   "source": [
    "n = 100 # Network size, choose from [20, 50, 100, 200, 500, 1000, 2000, 5000, 10000]\n",
    "pn = '1' # Network density\n",
    "rep = 1 # For illustration, generate one repetition. To fully replicate the result in the paper, change this to 50.\n",
    "\n",
    "for i in range(1,rep+1):\n",
    "    sim_id = f'ER_{pn}_keep_traj/n{n}_{i}'\n",
    "    os.makedirs(f'../instances/{sim_id}', exist_ok=True)\n",
    "    params = {'sim_id':sim_id, 'alpha':0.1, 'beta':3.5,\n",
    "              'noise_dist': 'logistic', 'noise_dist_param':1,\n",
    "              'cnt_iter': 100000, 't_warmup':1000, 'is_traj':True, \n",
    "              'network_type': 'ER',\n",
    "              'is_network_given':False, 'network_size': n, 'ER_prob':0.1, 'network_dir':'',\n",
    "              'is_value_given':False, 'v_dist':'uniform_neg', 'v_dist_param': 4, 'value_dir':''\n",
    "             }\n",
    "    \n",
    "    G = network(params)\n",
    "    sample = diffusion_simulation(G,params)\n",
    "    sample.start_diffusion()\n",
    "    sample.run_fixed_point()\n",
    "    sample.output()"
   ]
  },
  {
   "cell_type": "code",
   "execution_count": 88,
   "id": "98891abd-4f9e-4378-a3b5-075b54a189ca",
   "metadata": {},
   "outputs": [],
   "source": [
    "sim_id = f'ER_1_keep_traj/n1000_1'\n",
    "df_traj = pd.read_csv(f'../instances/{sim_id}/results_traj.csv')\n",
    "df = pd.read_csv(f'../instances/{sim_id}/results.csv')"
   ]
  },
  {
   "cell_type": "code",
   "execution_count": 92,
   "id": "aafbe375-b4cd-439c-89a6-84cae7321c9e",
   "metadata": {},
   "outputs": [
    {
     "name": "stdout",
     "output_type": "stream",
     "text": [
      "0.0058812922511805\n",
      "1 1.2669325000342155 0.07549875400730773 1.2360527515411377\n",
      "501 0.057008477619694395 0.005280058906231603 1.8544256687164309\n",
      "1001 0.04101410506786104 0.004706231185011217 2.471374034881592\n",
      "1501 0.032565657819428946 0.004513070665492216 3.0879712104797363\n",
      "2001 0.028398252894247335 0.004418485422058362 3.702304363250733\n",
      "2501 0.025415198377386428 0.004363983213068175 4.311804533004761\n",
      "3001 0.02340471250509389 0.004219052769316904 4.936525583267212\n",
      "3501 0.02104762395323073 0.00417052449784165 5.553074836730957\n",
      "4001 0.019761860862416363 0.00415534943728373 6.165019512176514\n",
      "4501 0.018285349319837194 0.0041633954538311145 6.779497623443604\n",
      "5001 0.017561930224665134 0.004127417062220962 7.3971734046936035\n",
      "5501 0.016722077615942087 0.004119977902562848 8.011270523071289\n",
      "6001 0.015892963725421587 0.004128839044724167 8.635516166687012\n",
      "6501 0.01544689213570758 0.004138114852338778 9.25640034675598\n",
      "7001 0.01442145832500727 0.0040995422951556545 9.876288652420044\n",
      "7501 0.014162909158264474 0.004088762359418228 10.486300945281982\n",
      "8001 0.013530739192074965 0.004101965843388055 11.116185426712036\n",
      "8501 0.013011571419125186 0.004133167128260643 11.740344762802124\n",
      "9001 0.012596318669696434 0.004154733569662342 12.356363534927368\n",
      "9501 0.012168934441890688 0.004120604030560278 13.005699634552002\n",
      "10001 0.011953504582938788 0.004120492042602639 13.63894772529602\n",
      "10501 0.01151518642826874 0.004141828874950507 14.277827501296995\n",
      "11001 0.011374770673999368 0.004171949403681765 14.903974771499634\n",
      "11501 0.011296650524635271 0.004143928948630233 15.529835224151611\n",
      "12001 0.010956654760899692 0.004138550141825821 16.151015043258667\n",
      "12501 0.010667946464456296 0.004143172701527631 16.774351596832275\n",
      "13001 0.010503619048107805 0.004145920277892036 17.392768621444702\n",
      "13501 0.010454754656189691 0.004147423789753233 18.002223014831543\n",
      "14001 0.010135276137406196 0.0041235455130037724 18.60807752609253\n",
      "14501 0.009948187895279207 0.004118030648023519 19.22353172302246\n",
      "15001 0.009641899752234324 0.0040825449846889385 19.831093072891235\n",
      "15501 0.009536922570732949 0.004082247024898924 20.431431770324707\n",
      "16001 0.009282091955317835 0.004070438463216426 21.04798531532288\n",
      "16501 0.00912998558397651 0.004061759499054938 21.662163496017456\n",
      "17001 0.009003674413651125 0.004069358727780792 22.26947522163391\n",
      "17501 0.00875961444897014 0.004068755289262364 22.87692141532898\n",
      "18001 0.008560764640179809 0.004077132149554514 23.488799810409542\n",
      "18501 0.008307975943033109 0.004064746300767593 24.0976459980011\n",
      "19001 0.008279256035755638 0.004077130104792524 24.70729184150696\n",
      "19501 0.008096787734829261 0.004057208781925247 25.319678783416748\n",
      "20001 0.00795434626029376 0.004043812176571258 25.932135820388797\n",
      "20501 0.007867724923206688 0.004035586495576423 26.541630506515503\n",
      "21001 0.0076897909365523705 0.004027317905974384 27.1564884185791\n",
      "21501 0.007562069791568165 0.0040223885434729455 27.77479839324951\n",
      "22001 0.007492385231584328 0.004020299274138811 28.38192391395569\n",
      "22501 0.0073281768925212865 0.00401895954983736 29.01120495796204\n",
      "23001 0.007185678509928849 0.0040217139101571655 29.662733793258667\n",
      "23501 0.007067852839978603 0.004015563087314698 30.27330708503723\n",
      "24001 0.007065469453254839 0.004013091311533817 30.8875629901886\n",
      "24501 0.006958325752173181 0.004015269285061015 31.505804300308228\n",
      "25001 0.00689522337366798 0.004013920874563057 32.12184858322144\n",
      "25501 0.006819399102528067 0.004016053056171536 32.73051452636719\n",
      "26001 0.0067754103044835945 0.00401473918270659 33.34570288658142\n",
      "26501 0.006690938112650603 0.004015458459206576 33.9600567817688\n",
      "27001 0.0066298656725662505 0.004015689857685521 34.56391644477844\n",
      "27501 0.006574240722816336 0.00401567447239518 35.17805004119873\n",
      "28001 0.006461473787350891 0.004019019165904196 35.791038513183594\n",
      "28501 0.006451836255612237 0.0040182746830719155 36.39700555801392\n",
      "29001 0.0063313147464900115 0.004019589527969953 37.0109543800354\n",
      "29501 0.006322756666897036 0.004017727193962512 37.62260746955872\n",
      "30001 0.0061976049556437115 0.004017051950934194 38.23403263092041\n",
      "30501 0.006162453534982502 0.004013748546196001 38.84043550491333\n",
      "31001 0.0060949478045447475 0.004016266679960679 39.45734071731568\n",
      "31501 0.006014426773286969 0.004014071136494386 40.070876359939575\n",
      "32001 0.006001505738606651 0.00401684236586832 40.67763614654541\n",
      "32501 0.005894355377887713 0.00401442655341053 41.289711713790894\n",
      "33001 0.00582152077123278 0.00401767745622894 41.9073657989502\n",
      "33501 0.005789967278989815 0.004022876809691922 42.51596689224243\n",
      "34001 0.005653361561471286 0.0040208696798126236 43.140432357788086\n",
      "34501 0.005590082372424584 0.004020557965388907 43.75967192649841\n",
      "35001 0.005494823701989034 0.0040226755957168394 44.3764214515686\n",
      "35501 0.005377442592692754 0.004021953592272775 44.98803377151489\n",
      "36001 0.005307114214161204 0.0040231534318031885 45.59901380538941\n",
      "36501 0.005252501902617703 0.004018642174835799 46.21226930618286\n",
      "37001 0.005225009054213768 0.004019836004414438 46.81720805168152\n",
      "37501 0.005174893956716085 0.004021213915370593 47.4336519241333\n",
      "38001 0.005152820054841623 0.004021633574190585 48.04445266723633\n",
      "38501 0.0050693646850099375 0.004022858923115671 48.65168285369873\n",
      "39001 0.005061389079157938 0.004025581826918465 49.264426946640015\n",
      "39501 0.004955345360177132 0.004025324159300649 49.8761146068573\n",
      "40001 0.004916305505730006 0.004024730422625392 50.48152995109558\n",
      "40501 0.004821043959827621 0.004024254058242739 51.09533882141113\n",
      "41001 0.00484026905171184 0.004025568122769354 51.71600198745728\n",
      "41501 0.004817792584608783 0.004022748037050538 52.33523988723755\n",
      "42001 0.004787172136718993 0.004026440638119668 52.948150634765625\n",
      "42501 0.004680603742714546 0.0040268489489588 53.56193709373474\n",
      "43001 0.004639338939760338 0.004029598536029519 54.1716570854187\n",
      "43501 0.004596411689911592 0.004029845960595494 54.77542972564697\n",
      "44001 0.004542706348428532 0.004029666321188753 55.388017416000366\n",
      "44501 0.00448028895240677 0.0040289490791851875 56.00017356872559\n",
      "45001 0.0044107126753527605 0.004029412866481955 56.60433053970337\n",
      "45501 0.004384044161667358 0.00402847707812098 57.21610450744629\n",
      "46001 0.004377520585540938 0.004026996250274406 57.82782554626465\n",
      "46501 0.004300509944039034 0.004023692243906231 58.43684220314026\n",
      "47001 0.004220624785888997 0.004021475990121718 59.04736542701721\n",
      "47501 0.004205598282579971 0.004022810270228328 59.65859079360962\n",
      "48001 0.004137680924428444 0.004019528066740928 60.27151322364807\n",
      "48501 0.004108666675998061 0.00401957209019297 60.88219022750855\n",
      "49001 0.004106568133207232 0.004020606254592678 61.49602890014648\n",
      "49501 0.004024986613209895 0.004016889755319492 62.10878944396973\n",
      "50001 0.0039826390321541635 0.0040173085236792725 62.714635372161865\n",
      "50501 0.003956574651050853 0.004017825403148035 63.329386711120605\n",
      "51001 0.003897867318080708 0.004019346400478311 63.94384360313416\n",
      "51501 0.0038537278678861865 0.004018998107172605 64.5507423877716\n",
      "52001 0.003807143000904138 0.004018524316929783 65.16441893577576\n",
      "52501 0.0037579058046069255 0.004018077322770202 65.77330136299133\n",
      "53001 0.003677284310940998 0.0040161351147059285 66.38299250602722\n",
      "53501 0.0036492509024556976 0.004017090409790069 66.99556231498718\n",
      "54001 0.003600289571199802 0.004014547100008473 67.60754251480103\n",
      "54501 0.003606582425247569 0.004018374292465982 68.21833324432373\n",
      "55001 0.003627008431886771 0.004015974874347738 68.825110912323\n",
      "55501 0.0035716141376747135 0.004018025174664844 69.44151329994202\n",
      "56001 0.0035350594744081427 0.0040170988325039375 70.0561830997467\n",
      "56501 0.003519498537912032 0.004015690641658559 70.66460371017456\n",
      "57001 0.0034974097350291924 0.00401464806338583 71.27924370765686\n",
      "57501 0.0034731039431146592 0.004011959690538166 71.89222264289856\n",
      "58001 0.0034189982824312927 0.004011336202357003 72.49821352958679\n",
      "58501 0.0033683066722734216 0.004009020414868112 73.11157011985779\n",
      "59001 0.0033128098107758695 0.004010399832545749 73.72615218162537\n",
      "59501 0.003306653877050203 0.004011654176120022 74.3397433757782\n",
      "60001 0.0032535199331426208 0.004011321678475066 74.94929099082947\n",
      "60501 0.0031939740491268268 0.004012159331546329 75.56351041793823\n",
      "61001 0.0031594945137666027 0.004012667594105092 76.17582249641418\n",
      "61501 0.0031067296279045867 0.0040137004716929445 76.78398871421814\n",
      "62001 0.00304589649388424 0.004012336189256347 77.40354180335999\n",
      "62501 0.003001115073213176 0.004010904098146666 78.01748967170715\n",
      "63001 0.0029793701762023317 0.004011700708483738 78.62660837173462\n",
      "63501 0.0029268854767478176 0.004010744933966557 79.23865461349487\n",
      "64001 0.002885937368721033 0.004009893318629366 79.8518455028534\n",
      "64501 0.0028668231201441964 0.004011693228881242 80.46028757095337\n",
      "65001 0.0028439397856659596 0.004010519056818533 81.06975507736206\n",
      "65501 0.0028291904460455313 0.004010841253981062 81.68525958061218\n",
      "66001 0.0027964850013321853 0.004011629348979326 82.2980010509491\n",
      "66501 0.002817356645703822 0.00401290158975064 82.90515303611755\n",
      "67001 0.0027693344480605804 0.0040119740645860845 83.51952505111694\n",
      "67501 0.002698252281220361 0.0040124567464117 84.13326144218445\n",
      "68001 0.002684803399550166 0.004011103952931715 84.7393524646759\n",
      "68501 0.002664639683733095 0.0040097488200747195 85.35294890403748\n",
      "69001 0.002631474815051754 0.004008348941472762 85.96598649024963\n",
      "69501 0.0025955933530344027 0.004008965301052556 86.57812213897705\n",
      "70001 0.0025890508532968822 0.004007824982775462 87.18836092948914\n",
      "70501 0.002593748295813335 0.004008222543118451 87.80062246322632\n",
      "71001 0.002555008999333395 0.004008048034293905 88.4151074886322\n",
      "71501 0.0025177979284149794 0.00401037909824796 89.0210349559784\n",
      "72001 0.0024885485064343885 0.004011829912748217 89.63658595085144\n",
      "72501 0.0024531995273081217 0.00400926256191433 90.2525269985199\n",
      "73001 0.0023938796335630716 0.004009382908602529 90.85954213142396\n",
      "73501 0.0023742291255100054 0.004009234174149489 91.47593426704408\n",
      "74001 0.002330394300143585 0.004010276346450542 92.09165787696838\n",
      "74501 0.002286797981107381 0.0040108015899625775 92.70435190200806\n",
      "75001 0.002256075836639379 0.004011615654634626 93.31770849227904\n",
      "75501 0.002202940290984638 0.004009863451092261 93.93171644210815\n",
      "76001 0.002185301645804921 0.004008774104551042 94.54522562026978\n",
      "76501 0.0021781873349154754 0.0040078421211359894 95.15053009986876\n",
      "77001 0.002153197886056537 0.004006111004604807 95.76905822753906\n",
      "77501 0.0021394636245732563 0.004004806219220317 96.38604664802553\n",
      "78001 0.0021081336348761095 0.004005852415559893 96.9913022518158\n",
      "78501 0.0020660446210231916 0.004006914647174764 97.60580706596376\n",
      "79001 0.0020507150257249537 0.004005899355533761 98.2190625667572\n",
      "79501 0.002033824586566408 0.004006925526049054 98.82723426818848\n",
      "80001 0.0019894589771232178 0.004006501615636616 99.44314002990724\n",
      "80501 0.001972932176545537 0.004008202484164799 100.05776572227478\n",
      "81001 0.0019469811707126378 0.0040085720470163354 100.66831064224245\n",
      "81501 0.0019021687064339759 0.004007102459948746 101.28129267692566\n",
      "82001 0.0018595774027200624 0.004009263154946208 101.89669370651244\n",
      "82501 0.0018514945964721021 0.0040090777756088035 102.50773406028748\n",
      "83001 0.0018012692040628132 0.0040085619114434935 103.12268924713136\n",
      "83501 0.0017709197772011343 0.004008642912003945 103.73810815811156\n",
      "84001 0.0017536804767941726 0.00400871086129068 104.35082077980042\n",
      "84501 0.0017436519169888262 0.004010010477874223 104.95906257629396\n",
      "85001 0.0016978537056072337 0.004010185099406755 105.57302522659302\n",
      "85501 0.0016894764833842182 0.004009832172521933 106.18502497673036\n",
      "86001 0.0016472522179211315 0.0040095121348919655 106.79165482521056\n",
      "86501 0.001620740226654534 0.004008284736922089 107.40350794792175\n",
      "87001 0.0015755708637151882 0.004007710513709803 108.0185616016388\n",
      "87501 0.001516710097100721 0.00400793374558317 108.62928581237792\n",
      "88001 0.0014696944763498818 0.004009159237550493 109.2378921508789\n",
      "88501 0.0014108025739811483 0.004008588008249474 109.85119724273682\n",
      "89001 0.0013509200819042451 0.004007453722681115 110.46690201759338\n",
      "89501 0.0012948930277764713 0.004007595472889547 111.073344707489\n",
      "90001 0.001269196364447655 0.004007005116080504 111.69180226325987\n",
      "90501 0.0012209200460768573 0.004006564011290483 112.30965185165404\n",
      "91001 0.0011862132572046488 0.004007235491190666 112.91678500175476\n",
      "91501 0.001148903122240571 0.004006184891133072 113.5299198627472\n",
      "92001 0.001126965091846889 0.004007195552959992 114.14293575286864\n",
      "92501 0.0010858341999220621 0.004006461683499937 114.75034356117249\n",
      "93001 0.001038790612285221 0.004006703106124275 115.36041450500488\n",
      "93501 0.0010086114994375085 0.004005524360964626 115.97239780426024\n",
      "94001 0.0009713049748105764 0.004005272944055801 116.58477568626404\n",
      "94501 0.000951526070579323 0.00400430531547588 117.1973397731781\n",
      "95001 0.0009008339558905504 0.004004618386202593 117.81076264381409\n",
      "95501 0.0008400321335178369 0.004005308297204314 118.4243550300598\n",
      "96001 0.0007815324648615966 0.004005336645461341 119.02901029586792\n",
      "96501 0.0007344680404396591 0.004004294869590228 119.65064072608948\n",
      "97001 0.0006935380564122621 0.00400355156554935 120.26326060295104\n",
      "97501 0.0006359750605563519 0.004003168856699783 120.87073802947998\n",
      "98001 0.0005629942546601766 0.0040030370347628776 121.48939061164856\n",
      "98501 0.0004985550477041396 0.004003209081130849 122.1021282672882\n",
      "99001 0.00039601690244391984 0.004002223784024298 122.7123498916626\n",
      "99501 0.0002747727320524183 0.004002584640008945 123.3233127593994\n"
     ]
    }
   ],
   "source": [
    "# The runtime can vary largily based on different computers.\n",
    "\n",
    "print(np.mean(np.abs(df['sim']-df['fp'])/df['sim']))\n",
    "for t in range(200):\n",
    "    t1 = t*500+1\n",
    "    print(t1,np.mean(np.abs(df['sim']-df_traj[f'sim_{t1}'])/df['sim']),np.mean(np.abs(df['sim']-df_traj[f'p_{t1}'])/df['sim']),df_traj[f't_{t1}'][0])"
   ]
  },
  {
   "cell_type": "code",
   "execution_count": 95,
   "id": "92ce97d4-1a8b-4287-947e-11a0cb5f99a3",
   "metadata": {},
   "outputs": [
    {
     "name": "stdout",
     "output_type": "stream",
     "text": [
      "Instance generated with 770 nodes.\n"
     ]
    }
   ],
   "source": [
    "folder = 'caltech'\n",
    "rep = 1 # For illustration, generate one repetition. To fully replicate the result in the paper, change this to 50.\n",
    "for i in range(1,rep+1):\n",
    "    sim_id = f'{folder}_keep_traj/sim_{i}'\n",
    "    os.makedirs(f'../instances/{sim_id}', exist_ok=True)\n",
    "    params = {'sim_id':sim_id, 'alpha':0.1, 'beta':3.5,\n",
    "              'noise_dist': 'logistic', 'noise_dist_param':1,\n",
    "              'cnt_iter': 100000, 't_warmup':1000, 'is_traj':True, \n",
    "              'is_network_given':True, 'network_dir':f'../instances/{folder}/edge.csv',\n",
    "              'is_value_given':False, 'v_dist':'uniform_neg', 'v_dist_param': 4\n",
    "             }\n",
    "    \n",
    "    G = network(params)\n",
    "    sample = diffusion_simulation(G,params)\n",
    "    sample.start_diffusion()\n",
    "    sample.run_fixed_point()\n",
    "    sample.output()"
   ]
  },
  {
   "cell_type": "code",
   "execution_count": 96,
   "id": "6d5ba4aa-4c62-442c-be9e-f514fdd78dd1",
   "metadata": {},
   "outputs": [
    {
     "ename": "FileNotFoundError",
     "evalue": "[Errno 2] No such file or directory: '../instances/caltech/sim_1/results_traj.csv'",
     "output_type": "error",
     "traceback": [
      "\u001b[1;31m---------------------------------------------------------------------------\u001b[0m",
      "\u001b[1;31mFileNotFoundError\u001b[0m                         Traceback (most recent call last)",
      "Cell \u001b[1;32mIn[96], line 2\u001b[0m\n\u001b[0;32m      1\u001b[0m sim_id \u001b[38;5;241m=\u001b[39m \u001b[38;5;124mf\u001b[39m\u001b[38;5;124m'\u001b[39m\u001b[38;5;124mcaltech/sim_1\u001b[39m\u001b[38;5;124m'\u001b[39m\n\u001b[1;32m----> 2\u001b[0m df_traj \u001b[38;5;241m=\u001b[39m pd\u001b[38;5;241m.\u001b[39mread_csv(\u001b[38;5;124mf\u001b[39m\u001b[38;5;124m'\u001b[39m\u001b[38;5;124m../instances/\u001b[39m\u001b[38;5;132;01m{\u001b[39;00msim_id\u001b[38;5;132;01m}\u001b[39;00m\u001b[38;5;124m/results_traj.csv\u001b[39m\u001b[38;5;124m'\u001b[39m)\n\u001b[0;32m      3\u001b[0m df \u001b[38;5;241m=\u001b[39m pd\u001b[38;5;241m.\u001b[39mread_csv(\u001b[38;5;124mf\u001b[39m\u001b[38;5;124m'\u001b[39m\u001b[38;5;124m../instances/\u001b[39m\u001b[38;5;132;01m{\u001b[39;00msim_id\u001b[38;5;132;01m}\u001b[39;00m\u001b[38;5;124m/results.csv\u001b[39m\u001b[38;5;124m'\u001b[39m)\n",
      "File \u001b[1;32m~\\anaconda3\\Lib\\site-packages\\pandas\\io\\parsers\\readers.py:1026\u001b[0m, in \u001b[0;36mread_csv\u001b[1;34m(filepath_or_buffer, sep, delimiter, header, names, index_col, usecols, dtype, engine, converters, true_values, false_values, skipinitialspace, skiprows, skipfooter, nrows, na_values, keep_default_na, na_filter, verbose, skip_blank_lines, parse_dates, infer_datetime_format, keep_date_col, date_parser, date_format, dayfirst, cache_dates, iterator, chunksize, compression, thousands, decimal, lineterminator, quotechar, quoting, doublequote, escapechar, comment, encoding, encoding_errors, dialect, on_bad_lines, delim_whitespace, low_memory, memory_map, float_precision, storage_options, dtype_backend)\u001b[0m\n\u001b[0;32m   1013\u001b[0m kwds_defaults \u001b[38;5;241m=\u001b[39m _refine_defaults_read(\n\u001b[0;32m   1014\u001b[0m     dialect,\n\u001b[0;32m   1015\u001b[0m     delimiter,\n\u001b[1;32m   (...)\u001b[0m\n\u001b[0;32m   1022\u001b[0m     dtype_backend\u001b[38;5;241m=\u001b[39mdtype_backend,\n\u001b[0;32m   1023\u001b[0m )\n\u001b[0;32m   1024\u001b[0m kwds\u001b[38;5;241m.\u001b[39mupdate(kwds_defaults)\n\u001b[1;32m-> 1026\u001b[0m \u001b[38;5;28;01mreturn\u001b[39;00m _read(filepath_or_buffer, kwds)\n",
      "File \u001b[1;32m~\\anaconda3\\Lib\\site-packages\\pandas\\io\\parsers\\readers.py:620\u001b[0m, in \u001b[0;36m_read\u001b[1;34m(filepath_or_buffer, kwds)\u001b[0m\n\u001b[0;32m    617\u001b[0m _validate_names(kwds\u001b[38;5;241m.\u001b[39mget(\u001b[38;5;124m\"\u001b[39m\u001b[38;5;124mnames\u001b[39m\u001b[38;5;124m\"\u001b[39m, \u001b[38;5;28;01mNone\u001b[39;00m))\n\u001b[0;32m    619\u001b[0m \u001b[38;5;66;03m# Create the parser.\u001b[39;00m\n\u001b[1;32m--> 620\u001b[0m parser \u001b[38;5;241m=\u001b[39m TextFileReader(filepath_or_buffer, \u001b[38;5;241m*\u001b[39m\u001b[38;5;241m*\u001b[39mkwds)\n\u001b[0;32m    622\u001b[0m \u001b[38;5;28;01mif\u001b[39;00m chunksize \u001b[38;5;129;01mor\u001b[39;00m iterator:\n\u001b[0;32m    623\u001b[0m     \u001b[38;5;28;01mreturn\u001b[39;00m parser\n",
      "File \u001b[1;32m~\\anaconda3\\Lib\\site-packages\\pandas\\io\\parsers\\readers.py:1620\u001b[0m, in \u001b[0;36mTextFileReader.__init__\u001b[1;34m(self, f, engine, **kwds)\u001b[0m\n\u001b[0;32m   1617\u001b[0m     \u001b[38;5;28mself\u001b[39m\u001b[38;5;241m.\u001b[39moptions[\u001b[38;5;124m\"\u001b[39m\u001b[38;5;124mhas_index_names\u001b[39m\u001b[38;5;124m\"\u001b[39m] \u001b[38;5;241m=\u001b[39m kwds[\u001b[38;5;124m\"\u001b[39m\u001b[38;5;124mhas_index_names\u001b[39m\u001b[38;5;124m\"\u001b[39m]\n\u001b[0;32m   1619\u001b[0m \u001b[38;5;28mself\u001b[39m\u001b[38;5;241m.\u001b[39mhandles: IOHandles \u001b[38;5;241m|\u001b[39m \u001b[38;5;28;01mNone\u001b[39;00m \u001b[38;5;241m=\u001b[39m \u001b[38;5;28;01mNone\u001b[39;00m\n\u001b[1;32m-> 1620\u001b[0m \u001b[38;5;28mself\u001b[39m\u001b[38;5;241m.\u001b[39m_engine \u001b[38;5;241m=\u001b[39m \u001b[38;5;28mself\u001b[39m\u001b[38;5;241m.\u001b[39m_make_engine(f, \u001b[38;5;28mself\u001b[39m\u001b[38;5;241m.\u001b[39mengine)\n",
      "File \u001b[1;32m~\\anaconda3\\Lib\\site-packages\\pandas\\io\\parsers\\readers.py:1880\u001b[0m, in \u001b[0;36mTextFileReader._make_engine\u001b[1;34m(self, f, engine)\u001b[0m\n\u001b[0;32m   1878\u001b[0m     \u001b[38;5;28;01mif\u001b[39;00m \u001b[38;5;124m\"\u001b[39m\u001b[38;5;124mb\u001b[39m\u001b[38;5;124m\"\u001b[39m \u001b[38;5;129;01mnot\u001b[39;00m \u001b[38;5;129;01min\u001b[39;00m mode:\n\u001b[0;32m   1879\u001b[0m         mode \u001b[38;5;241m+\u001b[39m\u001b[38;5;241m=\u001b[39m \u001b[38;5;124m\"\u001b[39m\u001b[38;5;124mb\u001b[39m\u001b[38;5;124m\"\u001b[39m\n\u001b[1;32m-> 1880\u001b[0m \u001b[38;5;28mself\u001b[39m\u001b[38;5;241m.\u001b[39mhandles \u001b[38;5;241m=\u001b[39m get_handle(\n\u001b[0;32m   1881\u001b[0m     f,\n\u001b[0;32m   1882\u001b[0m     mode,\n\u001b[0;32m   1883\u001b[0m     encoding\u001b[38;5;241m=\u001b[39m\u001b[38;5;28mself\u001b[39m\u001b[38;5;241m.\u001b[39moptions\u001b[38;5;241m.\u001b[39mget(\u001b[38;5;124m\"\u001b[39m\u001b[38;5;124mencoding\u001b[39m\u001b[38;5;124m\"\u001b[39m, \u001b[38;5;28;01mNone\u001b[39;00m),\n\u001b[0;32m   1884\u001b[0m     compression\u001b[38;5;241m=\u001b[39m\u001b[38;5;28mself\u001b[39m\u001b[38;5;241m.\u001b[39moptions\u001b[38;5;241m.\u001b[39mget(\u001b[38;5;124m\"\u001b[39m\u001b[38;5;124mcompression\u001b[39m\u001b[38;5;124m\"\u001b[39m, \u001b[38;5;28;01mNone\u001b[39;00m),\n\u001b[0;32m   1885\u001b[0m     memory_map\u001b[38;5;241m=\u001b[39m\u001b[38;5;28mself\u001b[39m\u001b[38;5;241m.\u001b[39moptions\u001b[38;5;241m.\u001b[39mget(\u001b[38;5;124m\"\u001b[39m\u001b[38;5;124mmemory_map\u001b[39m\u001b[38;5;124m\"\u001b[39m, \u001b[38;5;28;01mFalse\u001b[39;00m),\n\u001b[0;32m   1886\u001b[0m     is_text\u001b[38;5;241m=\u001b[39mis_text,\n\u001b[0;32m   1887\u001b[0m     errors\u001b[38;5;241m=\u001b[39m\u001b[38;5;28mself\u001b[39m\u001b[38;5;241m.\u001b[39moptions\u001b[38;5;241m.\u001b[39mget(\u001b[38;5;124m\"\u001b[39m\u001b[38;5;124mencoding_errors\u001b[39m\u001b[38;5;124m\"\u001b[39m, \u001b[38;5;124m\"\u001b[39m\u001b[38;5;124mstrict\u001b[39m\u001b[38;5;124m\"\u001b[39m),\n\u001b[0;32m   1888\u001b[0m     storage_options\u001b[38;5;241m=\u001b[39m\u001b[38;5;28mself\u001b[39m\u001b[38;5;241m.\u001b[39moptions\u001b[38;5;241m.\u001b[39mget(\u001b[38;5;124m\"\u001b[39m\u001b[38;5;124mstorage_options\u001b[39m\u001b[38;5;124m\"\u001b[39m, \u001b[38;5;28;01mNone\u001b[39;00m),\n\u001b[0;32m   1889\u001b[0m )\n\u001b[0;32m   1890\u001b[0m \u001b[38;5;28;01massert\u001b[39;00m \u001b[38;5;28mself\u001b[39m\u001b[38;5;241m.\u001b[39mhandles \u001b[38;5;129;01mis\u001b[39;00m \u001b[38;5;129;01mnot\u001b[39;00m \u001b[38;5;28;01mNone\u001b[39;00m\n\u001b[0;32m   1891\u001b[0m f \u001b[38;5;241m=\u001b[39m \u001b[38;5;28mself\u001b[39m\u001b[38;5;241m.\u001b[39mhandles\u001b[38;5;241m.\u001b[39mhandle\n",
      "File \u001b[1;32m~\\anaconda3\\Lib\\site-packages\\pandas\\io\\common.py:873\u001b[0m, in \u001b[0;36mget_handle\u001b[1;34m(path_or_buf, mode, encoding, compression, memory_map, is_text, errors, storage_options)\u001b[0m\n\u001b[0;32m    868\u001b[0m \u001b[38;5;28;01melif\u001b[39;00m \u001b[38;5;28misinstance\u001b[39m(handle, \u001b[38;5;28mstr\u001b[39m):\n\u001b[0;32m    869\u001b[0m     \u001b[38;5;66;03m# Check whether the filename is to be opened in binary mode.\u001b[39;00m\n\u001b[0;32m    870\u001b[0m     \u001b[38;5;66;03m# Binary mode does not support 'encoding' and 'newline'.\u001b[39;00m\n\u001b[0;32m    871\u001b[0m     \u001b[38;5;28;01mif\u001b[39;00m ioargs\u001b[38;5;241m.\u001b[39mencoding \u001b[38;5;129;01mand\u001b[39;00m \u001b[38;5;124m\"\u001b[39m\u001b[38;5;124mb\u001b[39m\u001b[38;5;124m\"\u001b[39m \u001b[38;5;129;01mnot\u001b[39;00m \u001b[38;5;129;01min\u001b[39;00m ioargs\u001b[38;5;241m.\u001b[39mmode:\n\u001b[0;32m    872\u001b[0m         \u001b[38;5;66;03m# Encoding\u001b[39;00m\n\u001b[1;32m--> 873\u001b[0m         handle \u001b[38;5;241m=\u001b[39m \u001b[38;5;28mopen\u001b[39m(\n\u001b[0;32m    874\u001b[0m             handle,\n\u001b[0;32m    875\u001b[0m             ioargs\u001b[38;5;241m.\u001b[39mmode,\n\u001b[0;32m    876\u001b[0m             encoding\u001b[38;5;241m=\u001b[39mioargs\u001b[38;5;241m.\u001b[39mencoding,\n\u001b[0;32m    877\u001b[0m             errors\u001b[38;5;241m=\u001b[39merrors,\n\u001b[0;32m    878\u001b[0m             newline\u001b[38;5;241m=\u001b[39m\u001b[38;5;124m\"\u001b[39m\u001b[38;5;124m\"\u001b[39m,\n\u001b[0;32m    879\u001b[0m         )\n\u001b[0;32m    880\u001b[0m     \u001b[38;5;28;01melse\u001b[39;00m:\n\u001b[0;32m    881\u001b[0m         \u001b[38;5;66;03m# Binary mode\u001b[39;00m\n\u001b[0;32m    882\u001b[0m         handle \u001b[38;5;241m=\u001b[39m \u001b[38;5;28mopen\u001b[39m(handle, ioargs\u001b[38;5;241m.\u001b[39mmode)\n",
      "\u001b[1;31mFileNotFoundError\u001b[0m: [Errno 2] No such file or directory: '../instances/caltech/sim_1/results_traj.csv'"
     ]
    }
   ],
   "source": [
    "sim_id = f'caltech/sim_1'\n",
    "df_traj = pd.read_csv(f'../instances/{sim_id}/results_traj.csv')\n",
    "df = pd.read_csv(f'../instances/{sim_id}/results.csv')"
   ]
  },
  {
   "cell_type": "code",
   "execution_count": null,
   "id": "5a277936-ee32-4db1-ae05-412a2653d017",
   "metadata": {},
   "outputs": [],
   "source": [
    "# The runtime can vary largily based on different computers.\n",
    "\n",
    "print(np.mean(np.abs(df['sim']-df['fp'])/df['sim']))\n",
    "for t in range(200):\n",
    "    t1 = t*500+1\n",
    "    print(t1,np.mean(np.abs(df['sim']-df_traj[f'sim_{t1}'])/df['sim']),np.mean(np.abs(df['sim']-df_traj[f'p_{t1}'])/df['sim']),df_traj[f't_{t1}'][0])"
   ]
  }
 ],
 "metadata": {
  "kernelspec": {
   "display_name": "Python [conda env:base] *",
   "language": "python",
   "name": "conda-base-py"
  },
  "language_info": {
   "codemirror_mode": {
    "name": "ipython",
    "version": 3
   },
   "file_extension": ".py",
   "mimetype": "text/x-python",
   "name": "python",
   "nbconvert_exporter": "python",
   "pygments_lexer": "ipython3",
   "version": "3.12.7"
  }
 },
 "nbformat": 4,
 "nbformat_minor": 5
}
