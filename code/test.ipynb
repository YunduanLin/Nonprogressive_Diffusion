{
 "cells": [
  {
   "cell_type": "code",
   "execution_count": null,
   "id": "69f213ee-0cf3-478a-857f-d80fe5794d7b",
   "metadata": {},
   "outputs": [],
   "source": []
  }
 ],
 "metadata": {
  "kernelspec": {
   "display_name": "",
   "name": ""
  },
  "language_info": {
   "name": ""
  }
 },
 "nbformat": 4,
 "nbformat_minor": 5
}
