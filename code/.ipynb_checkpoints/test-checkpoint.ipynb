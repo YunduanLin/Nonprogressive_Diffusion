{
 "cells": [
  {
   "cell_type": "code",
   "execution_count": 1,
   "id": "69f213ee-0cf3-478a-857f-d80fe5794d7b",
   "metadata": {},
   "outputs": [],
   "source": [
    "import numpy as np\n",
    "import numpy.linalg as la\n",
    "import matplotlib.pyplot as plt\n",
    "from tqdm.notebook import tnrange,tqdm\n",
    "import pandas as pd\n",
    "import os"
   ]
  },
  {
   "cell_type": "code",
   "execution_count": 2,
   "id": "bf44146d-7668-4a7c-af53-868b782fbaeb",
   "metadata": {},
   "outputs": [],
   "source": [
    "from diffusion_simulation import diffusion_simulation\n",
    "from network import network"
   ]
  },
  {
   "cell_type": "markdown",
   "id": "6334b4d3-f55b-4cc9-88af-e8d4f057e4e5",
   "metadata": {},
   "source": [
    "## Generate synthetic network instances "
   ]
  },
  {
   "cell_type": "markdown",
   "id": "3d53f2cb-5104-4dc2-8df2-8e44dfb8894b",
   "metadata": {},
   "source": [
    "### __Example 1__: Generate one ER graph with size 100, density 0.1"
   ]
  },
  {
   "cell_type": "code",
   "execution_count": 34,
   "id": "e5dfa024-3b03-4ae9-8757-49877a2497fe",
   "metadata": {
    "scrolled": true
   },
   "outputs": [
    {
     "name": "stdout",
     "output_type": "stream",
     "text": [
      "Instance generated with 100 nodes.\n"
     ]
    }
   ],
   "source": [
    "n = 100 # Network size, choose from [20, 50, 100, 200, 500, 1000, 2000, 5000, 10000]\n",
    "pn = '1' # Network density, choose from ['1_n13', '1_n11', '1_n', 'sqrtlogn_n', 'logn_n', 'logn2_n', '1']\n",
    "rep = 1 # For illustration, generate one repetition. To fully replicate the result in the paper, change this to 50.\n",
    "\n",
    "for i in range(1,rep+1):\n",
    "    sim_id = f'ER_{pn}/n{n}_{i}'\n",
    "    os.makedirs(f'../instances/{sim_id}', exist_ok=True)\n",
    "    params = {'sim_id':sim_id, 'alpha':0.1, 'beta':3.5,\n",
    "              'noise_dist': 'logistic', 'noise_dist_param':1,\n",
    "              'cnt_iter': 100000, 't_warmup':1000, 'is_traj':False, \n",
    "              'network_type': 'ER',\n",
    "              'is_network_given':False, 'network_size': n, 'ER_prob':0.1, 'network_dir':'',\n",
    "              'is_value_given':False, 'v_dist':'uniform_neg', 'v_dist_param': 4, 'value_dir':''\n",
    "             }\n",
    "    \n",
    "    G = network(params)\n",
    "    sample = diffusion_simulation(G,params)\n",
    "    sample.start_diffusion()\n",
    "    sample.run_fixed_point()\n",
    "    sample.output()"
   ]
  },
  {
   "cell_type": "code",
   "execution_count": 36,
   "id": "0923d67e-3b3f-4e1a-901f-6d25190e56d6",
   "metadata": {},
   "outputs": [
    {
     "name": "stdout",
     "output_type": "stream",
     "text": [
      "Instance generated with 100 nodes.\n",
      "MAPE: 3.6896278293831886\n",
      "Inverse in-degree density: 0.11699688\n",
      "Inverse of average in-degree: 0.1027749277540214\n"
     ]
    }
   ],
   "source": [
    "# Figure 3, illustration for one of the replications of a specific (n,p(n)) ER random graph\n",
    "\n",
    "sim_id = f'ER_{pn}/n{n}_{1}'\n",
    "\n",
    "df = pd.read_csv(f'../instances/{sim_id}/results.csv')\n",
    "params = {'sim_id':sim_id, 'alpha':0.1, 'beta':3.5,\n",
    "          'noise_dist': 'logistic', 'noise_dist_param': 1,\n",
    "          'cnt_iter': 100000, 't_warmup':1000, 'is_traj':False, \n",
    "          'is_network_given':True, 'network_dir':f'../instances/{sim_id}/edge.csv',  \n",
    "          'is_value_given':True, 'value_dir':f'../instances/{sim_id}/v.csv'\n",
    "         }\n",
    "G = network(params)\n",
    "\n",
    "is_not_0 = G.in_degree > 0\n",
    "if G.n<len(df):\n",
    "    df = df[:G.n]\n",
    "df_1 = df[is_not_0]\n",
    "mape = np.mean(np.abs(df_1['sim']-df_1['fp'])/df_1['sim'])\n",
    "    \n",
    "G.cal_mean_inv_indeg()\n",
    "\n",
    "print('MAPE:', mape*100) # Figure 3(a)\n",
    "print('Inverse in-degree density:', np.mean(1/G.in_degree[is_not_0])) # Figure 3(b)\n",
    "print('Inverse of average in-degree:', 1/np.mean(G.in_degree)) # Figure 3(c)"
   ]
  },
  {
   "cell_type": "markdown",
   "id": "d4cff97e-b348-4de9-812b-c313d5433a0e",
   "metadata": {},
   "source": [
    "### __Example 2__: Generate one ER graph with size 1000, density $\\log{n}/n$"
   ]
  },
  {
   "cell_type": "code",
   "execution_count": 7,
   "id": "0a180499-d176-4079-8bf4-b8f234e973f7",
   "metadata": {},
   "outputs": [
    {
     "name": "stdout",
     "output_type": "stream",
     "text": [
      "Instance generated with 1000 nodes.\n"
     ]
    }
   ],
   "source": [
    "n = 1000 # Network size, choose from [20, 50, 100, 200, 500, 1000, 2000, 5000, 10000]\n",
    "pn = 'logn_n' # Network density, choose from ['1_n13', '1_n11', '1_n', 'sqrtlogn_n', 'logn_n', 'logn2_n', '1']\n",
    "rep = 1 # For illustration, generate one repetition. To fully replicate the result in the paper, change this to 50.\n",
    "\n",
    "for i in range(1,rep+1):\n",
    "    sim_id = f'ER_{pn}/n{n}_{i}'\n",
    "    os.makedirs(f'../instances/{sim_id}', exist_ok=True)\n",
    "    params = {'sim_id':sim_id, 'alpha':0.1, 'beta':3.5,\n",
    "              'noise_dist': 'logistic', 'noise_dist_param':1,\n",
    "              'cnt_iter': 100000, 't_warmup':1000, 'is_traj':False, \n",
    "              'network_type': 'ER',\n",
    "              'is_network_given':False, 'network_size': n, 'ER_prob':np.log(n)/n, 'network_dir':'',\n",
    "              'is_value_given':False, 'v_dist':'uniform_neg', 'v_dist_param': 4, 'value_dir':''\n",
    "             }\n",
    "    \n",
    "    G = network(params)\n",
    "    sample = diffusion_simulation(G,params)\n",
    "    sample.start_diffusion()\n",
    "    sample.run_fixed_point()\n",
    "    sample.output()"
   ]
  },
  {
   "cell_type": "code",
   "execution_count": 8,
   "id": "f2a8012a-e99d-4517-86ff-8a00be0d1c97",
   "metadata": {},
   "outputs": [
    {
     "name": "stdout",
     "output_type": "stream",
     "text": [
      "Instance generated with 1000 nodes.\n",
      "MAPE: 6.60778471532297\n",
      "Inverse in-degree density 0.17600192\n",
      "Inverse of average in-degree 0.1440299615549603\n"
     ]
    }
   ],
   "source": [
    "# Figure 4, illustration for one of the replications of a specific (n,p(n)) ER random graph\n",
    "\n",
    "sim_id = f'ER_{pn}/n{n}_{1}'\n",
    "\n",
    "df = pd.read_csv(f'../instances/{sim_id}/results.csv')\n",
    "params = {'sim_id':sim_id, 'alpha':0.1, 'beta':3.5,\n",
    "          'noise_dist': 'logistic', 'noise_dist_param': 1,\n",
    "          'cnt_iter': 100000, 't_warmup':1000, 'is_traj':False, \n",
    "          'is_network_given':True, 'network_dir':f'../instances/{sim_id}/edge.csv',  \n",
    "          'is_value_given':True, 'value_dir':f'../instances/{sim_id}/v.csv'\n",
    "         }\n",
    "G = network(params)\n",
    "\n",
    "is_not_0 = G.in_degree > 0\n",
    "if G.n<len(df):\n",
    "    df = df[:G.n]\n",
    "df_1 = df[is_not_0]\n",
    "mape = np.mean(np.abs(df_1['sim']-df_1['fp'])/df_1['sim'])\n",
    "\n",
    "print('MAPE:', mape*100) # Figure 4(a)\n",
    "print('Inverse in-degree density:', np.mean(1/G.in_degree[is_not_0])) # Figure 4(b)\n",
    "print('Inverse of average in-degree:', 1/np.mean(G.in_degree)) # Figure 4(c)"
   ]
  },
  {
   "cell_type": "markdown",
   "id": "d63f6d6c-de6d-484f-871f-a87f91ee5725",
   "metadata": {},
   "source": [
    "### __Example 3__: Generate one PL graph with size 100, exponent 2.5, degree correlation 0"
   ]
  },
  {
   "cell_type": "code",
   "execution_count": 29,
   "id": "2c322d11-393c-431b-af0e-9914cbeeacd4",
   "metadata": {},
   "outputs": [
    {
     "name": "stdout",
     "output_type": "stream",
     "text": [
      "Instance generated with 100 nodes.\n"
     ]
    }
   ],
   "source": [
    "n = 100 # Network size, choose from [20, 50, 100, 200, 500, 1000, 2000, 5000, 10000]\n",
    "pn = 'alpha25_theta0' # Network density, choose from ['1_n13', '1_n11', '1_n', 'sqrtlogn_n', 'logn_n', 'logn2_n', '1']\n",
    "expon, corr, xmin = 3, 0, 2\n",
    "rep = 1 # For illustration, generate one repetition. To fully replicate the result in the paper, change this to 50.\n",
    "\n",
    "for i in range(1,rep+1):\n",
    "    sim_id = f'PL_alpha{expon}_theta{corr}/n{n}_{i}'\n",
    "    os.makedirs(f'../instances/{sim_id}', exist_ok=True)\n",
    "    params = {'sim_id':sim_id, 'alpha':0.1, 'beta':3.5,\n",
    "              'noise_dist': 'logistic', 'noise_dist_param':1,\n",
    "              'cnt_iter': 100000, 't_warmup':1000, 'is_traj':False, \n",
    "              'network_type': 'PL',\n",
    "              'is_network_given':False, 'network_size': n, 'PL_exponent':expon, 'PL_corr':corr, 'PL_xmin':xmin, 'network_dir':'',\n",
    "              'is_value_given':False, 'v_dist':'uniform_neg', 'v_dist_param': 4, 'value_dir':''\n",
    "             }\n",
    "    \n",
    "    G = network(params)\n",
    "    sample = diffusion_simulation(G,params)\n",
    "    sample.start_diffusion()\n",
    "    sample.run_fixed_point()\n",
    "    sample.output()"
   ]
  },
  {
   "cell_type": "code",
   "execution_count": 31,
   "id": "60f35f31-86b6-42f7-8977-98a0fb09b8ec",
   "metadata": {},
   "outputs": [
    {
     "name": "stdout",
     "output_type": "stream",
     "text": [
      "Instance generated with 100 nodes.\n",
      "MAPE: 14.989297687283692\n",
      "Inverse in-degree density: 0.40200797\n"
     ]
    }
   ],
   "source": [
    "# Figure 5, illustration for one of the replications of a specific (n,p(n)) ER random graph\n",
    "\n",
    "sim_id = f'PL_alpha{expon}_theta{corr}/n{n}_{1}'\n",
    "\n",
    "df = pd.read_csv(f'../instances/{sim_id}/results.csv')\n",
    "params = {'sim_id':sim_id, 'alpha':0.1, 'beta':3.5,\n",
    "          'noise_dist': 'logistic', 'noise_dist_param': 1,\n",
    "          'cnt_iter': 100000, 't_warmup':1000, 'is_traj':False, \n",
    "          'is_network_given':True, 'network_dir':f'../instances/{sim_id}/edge.csv',  \n",
    "          'is_value_given':True, 'value_dir':f'../instances/{sim_id}/v.csv'\n",
    "         }\n",
    "G = network(params)\n",
    "\n",
    "mape = np.mean(np.abs(df['sim']-df['fp'])/df['sim'])\n",
    "\n",
    "print('MAPE:', mape*100) # Figure 5\n",
    "print('Inverse in-degree density:', np.mean(1/G.in_degree)) # Figure 5"
   ]
  },
  {
   "cell_type": "markdown",
   "id": "e6198b60-0f47-405e-94bb-fef00b5479ab",
   "metadata": {},
   "source": [
    "## Generate real-world network instances"
   ]
  },
  {
   "cell_type": "code",
   "execution_count": 13,
   "id": "95f84a9e-7b7f-4db2-be33-042d96fcdc99",
   "metadata": {},
   "outputs": [],
   "source": [
    "sim, folder = 'Caltech36', 'caltech'\n",
    "os.makedirs(f'../instances/{folder}', exist_ok=True)\n",
    "df = pd.read_csv(f'../instances/{sim}.txt',sep=' ', names=['from_edge', 'to_edge'])\n",
    "df_1 = df.copy()\n",
    "df_1['from_edge'], df_1['to_edge'] = df['to_edge'], df['from_edge']\n",
    "# build a undirected graph\n",
    "pd.concat([df,df_1], ignore_index=True).to_csv(f'../instances/{folder}/edge.csv', index=None)"
   ]
  },
  {
   "cell_type": "code",
   "execution_count": 15,
   "id": "d8054194-3181-46c9-807e-d3f75cbc9070",
   "metadata": {
    "scrolled": true
   },
   "outputs": [
    {
     "name": "stdout",
     "output_type": "stream",
     "text": [
      "Instance generated with 770 nodes.\n"
     ]
    }
   ],
   "source": [
    "folder = 'caltech'\n",
    "rep = 1 # For illustration, generate one repetition. To fully replicate the result in the paper, change this to 50.\n",
    "for i in range(1,rep+1):\n",
    "    sim_id = f'{folder}/sim_{i}'\n",
    "    os.makedirs(f'../instances/{sim_id}', exist_ok=True)\n",
    "    params = {'sim_id':sim_id, 'alpha':0.1, 'beta':3.5,\n",
    "              'noise_dist': 'logistic', 'noise_dist_param':1,\n",
    "              'cnt_iter': 100000, 't_warmup':1000, 'is_traj':False, \n",
    "              'is_network_given':True, 'network_dir':f'../instances/{folder}/edge.csv',\n",
    "              'is_value_given':False, 'v_dist':'uniform_neg', 'v_dist_param': 4\n",
    "             }\n",
    "    \n",
    "    G = network(params)\n",
    "    sample = diffusion_simulation(G,params)\n",
    "    sample.start_diffusion()\n",
    "    sample.run_fixed_point()\n",
    "    sample.output()"
   ]
  },
  {
   "cell_type": "code",
   "execution_count": 21,
   "id": "2515200c-7881-47e4-867b-8aeefdf6d354",
   "metadata": {},
   "outputs": [
    {
     "name": "stdout",
     "output_type": "stream",
     "text": [
      "MAPE: 3.4243050026408763\n"
     ]
    }
   ],
   "source": [
    "df = pd.read_csv(f'../instances/{sim_id}/results.csv')\n",
    "print('MAPE:', np.mean(np.abs(df['sim']-df['fp'])/df['sim'])*100)"
   ]
  }
 ],
 "metadata": {
  "kernelspec": {
   "display_name": "Python [conda env:base] *",
   "language": "python",
   "name": "conda-base-py"
  },
  "language_info": {
   "codemirror_mode": {
    "name": "ipython",
    "version": 3
   },
   "file_extension": ".py",
   "mimetype": "text/x-python",
   "name": "python",
   "nbconvert_exporter": "python",
   "pygments_lexer": "ipython3",
   "version": "3.12.7"
  }
 },
 "nbformat": 4,
 "nbformat_minor": 5
}
