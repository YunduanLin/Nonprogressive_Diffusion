{
 "cells": [
  {
   "cell_type": "code",
   "execution_count": 1,
   "id": "69f213ee-0cf3-478a-857f-d80fe5794d7b",
   "metadata": {},
   "outputs": [],
   "source": [
    "import numpy as np\n",
    "import numpy.linalg as la\n",
    "import matplotlib.pyplot as plt\n",
    "from tqdm.notebook import tnrange,tqdm\n",
    "import pandas as pd\n",
    "import os"
   ]
  },
  {
   "cell_type": "code",
   "execution_count": 3,
   "id": "bf44146d-7668-4a7c-af53-868b782fbaeb",
   "metadata": {},
   "outputs": [],
   "source": [
    "from diffusion_simulation import diffusion_simulation\n",
    "from network import network"
   ]
  },
  {
   "cell_type": "code",
   "execution_count": 11,
   "id": "95f84a9e-7b7f-4db2-be33-042d96fcdc99",
   "metadata": {},
   "outputs": [],
   "source": [
    "sim, folder = 'Caltech36', 'caltech'\n",
    "# os.mkdir(f'../instances/{folder}')\n",
    "df = pd.read_csv(f'../instances/{sim}.txt',sep=' ', names=['from_edge', 'to_edge'])\n",
    "df_1 = df.copy()\n",
    "df_1['from_edge'], df_1['to_edge'] = df['to_edge'], df['from_edge']\n",
    "pd.concat([df,df_1], ignore_index=True).to_csv(f'../instances/{folder}/edge.csv', index=None)"
   ]
  },
  {
   "cell_type": "code",
   "execution_count": null,
   "id": "d8054194-3181-46c9-807e-d3f75cbc9070",
   "metadata": {
    "scrolled": true
   },
   "outputs": [
    {
     "data": {
      "application/vnd.jupyter.widget-view+json": {
       "model_id": "8348f1e813dd4182a1afb2cc2a8045be",
       "version_major": 2,
       "version_minor": 0
      },
      "text/plain": [
       "  0%|          | 0/1 [00:00<?, ?it/s]"
      ]
     },
     "metadata": {},
     "output_type": "display_data"
    },
    {
     "name": "stdout",
     "output_type": "stream",
     "text": [
      "Instance generated with 770 nodes.\n",
      "---t=0---\n",
      "---t=1000---\n",
      "---t=2000---\n",
      "---t=3000---\n",
      "---t=4000---\n",
      "---t=5000---\n",
      "---t=6000---\n",
      "---t=7000---\n",
      "---t=8000---\n",
      "---t=9000---\n",
      "---t=10000---\n",
      "---t=11000---\n",
      "---t=12000---\n",
      "---t=13000---\n",
      "---t=14000---\n",
      "---t=15000---\n",
      "---t=16000---\n",
      "---t=17000---\n",
      "---t=18000---\n",
      "---t=19000---\n",
      "---t=20000---\n",
      "---t=21000---\n",
      "---t=22000---\n",
      "---t=23000---\n",
      "---t=24000---\n",
      "---t=25000---\n",
      "---t=26000---\n",
      "---t=27000---\n",
      "---t=28000---\n",
      "---t=29000---\n",
      "---t=30000---\n",
      "---t=31000---\n",
      "---t=32000---\n",
      "---t=33000---\n",
      "---t=34000---\n",
      "---t=35000---\n"
     ]
    }
   ],
   "source": [
    "folder = 'caltech'\n",
    "for i in tnrange(1,2):\n",
    "    os.mkdir(f'../instances/{folder}/sim_{i}')\n",
    "    params = {'sim_id':f'{folder}/sim_{i}/', 'alpha':0.1, 'beta':3.5,\n",
    "              'noise_dist': 'logistic', 'noise_dist_param':1,\n",
    "              'cnt_iter': 100000, 't_warmup':1000, 'is_traj':False, \n",
    "              'is_network_given':True, 'network_dir':f'../instances/{folder}/edge.csv',\n",
    "              'is_value_given':False, 'v_dist':'uniform_neg', 'v_dist_param': 4\n",
    "             }\n",
    "    \n",
    "    G = network(params)\n",
    "    sample = diffusion_simulation(G,params)\n",
    "    sample.start_diffusion()\n",
    "    sample.run_fixed_point()\n",
    "    sample.output()"
   ]
  }
 ],
 "metadata": {
  "kernelspec": {
   "display_name": "Python [conda env:base] *",
   "language": "python",
   "name": "conda-base-py"
  },
  "language_info": {
   "codemirror_mode": {
    "name": "ipython",
    "version": 3
   },
   "file_extension": ".py",
   "mimetype": "text/x-python",
   "name": "python",
   "nbconvert_exporter": "python",
   "pygments_lexer": "ipython3",
   "version": "3.12.7"
  }
 },
 "nbformat": 4,
 "nbformat_minor": 5
}
