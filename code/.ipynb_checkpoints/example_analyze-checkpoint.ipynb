{
 "cells": [
  {
   "cell_type": "code",
   "execution_count": 1,
   "metadata": {},
   "outputs": [],
   "source": [
    "import numpy as np\n",
    "import numpy.linalg as la\n",
    "import matplotlib.pyplot as plt\n",
    "from tqdm.notebook import tnrange,tqdm\n",
    "import pandas as pd\n",
    "import os"
   ]
  },
  {
   "cell_type": "code",
   "execution_count": 2,
   "metadata": {},
   "outputs": [],
   "source": [
    "from diffusion_simulation import diffusion_simulation\n",
    "from network import network"
   ]
  },
  {
   "cell_type": "code",
   "execution_count": 4,
   "metadata": {},
   "outputs": [],
   "source": [
    "beta, s = 3.5, 1"
   ]
  },
  {
   "cell_type": "code",
   "execution_count": 15,
   "metadata": {
    "scrolled": true
   },
   "outputs": [
    {
     "name": "stdout",
     "output_type": "stream",
     "text": [
      "Instance generated with 10 nodes.\n"
     ]
    },
    {
     "name": "stderr",
     "output_type": "stream",
     "text": [
      "C:\\Users\\LinYunduan\\Documents\\github\\Nonprogressive_Diffusion\\code\\diffusion_simulation.py:124: ComplexWarning: Casting complex values to real discards the imaginary part\n",
      "  stationary = stationary.astype(float)\n"
     ]
    }
   ],
   "source": [
    "params = {'sim_id':f'example', 'alpha':0.1, 'beta':beta,\n",
    "          'noise_dist': 'logistic', 'noise_dist_param': s,\n",
    "          'cnt_iter': 100000, 't_warmup':1000, 'is_traj':False, \n",
    "          'is_network_given':True, 'network_dir':f'../instances/example/edge.csv',  \n",
    "          'is_value_given':True, 'value_dir':f'../instances/example/v.csv'\n",
    "         }\n",
    "    \n",
    "G = network(params)\n",
    "sample = diffusion_simulation(G,params)\n",
    "sample.cal_exact()\n",
    "sample.run_fixed_point()\n",
    "sample.output()"
   ]
  },
  {
   "cell_type": "code",
   "execution_count": 16,
   "metadata": {},
   "outputs": [],
   "source": [
    "L = 1/(4*s)\n",
    "rho = beta * L\n",
    "c = rho/(1-rho)/(1-rho/2)\n",
    "\n",
    "normalized_centrality = (1-rho)*la.inv(np.identity(sample.G.n)-rho*sample.G.A) @ sample.G.b\n",
    "\n",
    "df = pd.read_csv('../instances/example/results.csv')\n",
    "error = np.abs(df['exact']-df['fp'])"
   ]
  },
  {
   "cell_type": "code",
   "execution_count": 19,
   "metadata": {},
   "outputs": [
    {
     "data": {
      "text/plain": [
       "(0.005, 0.15)"
      ]
     },
     "execution_count": 19,
     "metadata": {},
     "output_type": "execute_result"
    },
    {
     "data": {
      "image/png": "[encoded data removed]",
      "text/plain": [
       "<Figure size 640x480 with 1 Axes>"
      ]
     },
     "metadata": {},
     "output_type": "display_data"
    }
   ],
   "source": [
    "plt.scatter(normalized_centrality, error, c='#5f97d2', edgecolor='white', s=100)\n",
    "plt.xlabel('Normalized Centrality')\n",
    "plt.ylabel('Absolute Error')\n",
    "\n",
    "for i in range(0,3):\n",
    "    plt.text(normalized_centrality[i]-0.009, error[i]+0.003, i)\n",
    "plt.text(normalized_centrality[3]-0.003, error[3]+0.005, 3)\n",
    "plt.text(normalized_centrality[4]-0.009, error[4]+0.003, 4)\n",
    "plt.text(normalized_centrality[5]+0.004, error[5]+0.003, 5)\n",
    "for i in range(6,sample.G.n):\n",
    "    plt.text(normalized_centrality[i]-0.009, error[i]+0.003, i)\n",
    "\n",
    "plt.xlim(0.23,0.5)\n",
    "plt.ylim(0.005,0.15)"
   ]
  },
  {
   "cell_type": "code",
   "execution_count": 23,
   "metadata": {},
   "outputs": [
    {
     "data": {
      "text/plain": [
       "0    0.016614\n",
       "1    0.013723\n",
       "2    0.019858\n",
       "3   -0.022156\n",
       "4    0.039259\n",
       "5   -0.020238\n",
       "6    0.041437\n",
       "7   -0.043764\n",
       "8    0.094419\n",
       "9    0.137060\n",
       "dtype: float64"
      ]
     },
     "execution_count": 23,
     "metadata": {},
     "output_type": "execute_result"
    }
   ],
   "source": [
    "df = pd.read_csv(f'../instances/example/results.csv')\n",
    "df['fp'] - df['exact']"
   ]
  },
  {
   "cell_type": "code",
   "execution_count": 25,
   "metadata": {},
   "outputs": [
    {
     "data": {
      "text/plain": [
       "0    0.016614\n",
       "1    0.013723\n",
       "2    0.019858\n",
       "3   -0.022156\n",
       "4    0.039259\n",
       "5   -0.020238\n",
       "6    0.041437\n",
       "7   -0.043764\n",
       "8    0.094419\n",
       "9    0.137060\n",
       "dtype: float64"
      ]
     },
     "execution_count": 25,
     "metadata": {},
     "output_type": "execute_result"
    }
   ],
   "source": [
    "df_0 = pd.read_csv(f'../instances/example/results.csv')\n",
    "df_0['fp'] - df['exact']"
   ]
  }
 ],
 "metadata": {
  "kernelspec": {
   "display_name": "Python [conda env:base] *",
   "language": "python",
   "name": "conda-base-py"
  },
  "language_info": {
   "codemirror_mode": {
    "name": "ipython",
    "version": 3
   },
   "file_extension": ".py",
   "mimetype": "text/x-python",
   "name": "python",
   "nbconvert_exporter": "python",
   "pygments_lexer": "ipython3",
   "version": "3.12.7"
  }
 },
 "nbformat": 4,
 "nbformat_minor": 4
}
